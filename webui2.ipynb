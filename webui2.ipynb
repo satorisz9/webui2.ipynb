{
  "cells": [
    {
      "cell_type": "code",
      "execution_count": null,
      "metadata": {
        "execution": {
          "iopub.execute_input": "2023-05-05T00:17:50.387471Z",
          "iopub.status.busy": "2023-05-05T00:17:50.387215Z",
          "iopub.status.idle": "2023-05-05T00:22:21.158701Z",
          "shell.execute_reply": "2023-05-05T00:22:21.157889Z",
          "shell.execute_reply.started": "2023-05-05T00:17:50.387450Z"
        },
        "id": "qfGtMLwLpCr3"
      },
      "outputs": [],
      "source": [
        "#(3) WebUI起動\n",
        "!apt update\n",
        "!apt -y install python3.10\n",
        "!curl -sS https://bootstrap.pypa.io/get-pip.py | python3.10\n",
        "!python3.10 -m pip install torch==1.13.1+cu116 torchvision==0.14.1+cu116 torchaudio==0.13.1 --extra-index-url https://download.pytorch.org/whl/cu116 -U\n",
        "!python3.10 -m pip install -q xformers==0.0.16\n",
        "!python3.10 -m pip install -q triton==2.0.0\n",
        "%cd /notebooks/stable-diffusion-webui\n",
        "!python3.10 launch.py --enable-insecure-extension-access --share --gradio-queue\n"
      ]
    },
    {
      "cell_type": "code",
      "execution_count": null,
      "metadata": {
        "execution": {
          "iopub.execute_input": "2023-05-04T23:59:36.964054Z",
          "iopub.status.busy": "2023-05-04T23:59:36.963563Z",
          "iopub.status.idle": "2023-05-04T23:59:39.697572Z",
          "shell.execute_reply": "2023-05-04T23:59:39.696873Z",
          "shell.execute_reply.started": "2023-05-04T23:59:36.964034Z"
        },
        "id": "JMVf8COkpK0e"
      },
      "outputs": [],
      "source": [
        "#(1) AUTOMATIC1111のダウンロード\n",
        "%cd /notebooks\n",
        "!rm -rf stable-diffusion-webui\n",
        "!git clone https://github.com/AUTOMATIC1111/stable-diffusion-webui\n"
      ]
    },
    {
      "cell_type": "code",
      "execution_count": null,
      "metadata": {
        "execution": {
          "iopub.execute_input": "2023-05-05T00:00:28.876322Z",
          "iopub.status.busy": "2023-05-05T00:00:28.875770Z",
          "iopub.status.idle": "2023-05-05T00:13:24.442024Z",
          "shell.execute_reply": "2023-05-05T00:13:24.441355Z",
          "shell.execute_reply.started": "2023-05-05T00:00:28.876322Z"
        },
        "id": "rIUmi3RhpQiW"
      },
      "outputs": [],
      "source": [
        "#(2) モデルのダウンロード（ここにダウンロードしたいモデルを追加）\n",
        "%cd /notebooks/stable-diffusion-webui/models/Stable-diffusion\n",
        "!wget -nc https://civitai.com/api/download/models/16859 -O BulueberryMix-1.0.safetensors\n",
        "!wget -nc https://civitai.com/api/download/models/11745 -O Chilloutmix-Ni-pruned-fp32-fix.safetensors\n",
        "!wget -nc https://civitai.com/api/download/models/63786 -O braBeautifulRealistic_brav5.safetensors\n",
        "!wget -nc https://civitai.com/api/download/models/60643 -O XXMix_9realistic.safetensors\n",
        "!wget -nc https://huggingface.co/jtamph/magicmixRealistic/resolve/main/majicmixRealistic_v4.safetensors -O majicmixRealistic_v4.safetensors\n",
        "!wget -nc https://huggingface.co/sazyou-roukaku/chilled_remix/resolve/main/chilled_remix_v1vae.safetensors -O chilled_remix_v1vae.safetensors\n",
        "\n",
        "%cd /notebooks/stable-diffusion-webui/embeddings\n",
        "!wget -nc https://civitai.com/api/download/models/60938 -O negative_hand-neg.pt\n",
        "!wget -nc https://huggingface.co/datasets/Nerfgun3/bad_prompt/resolve/main/bad_prompt_version2.pt -O bad_prompt.pt\n",
        "\n",
        "%cd /notebooks/stable-diffusion-webui/models/Lora\n",
        "!wget -nc https://civitai.com/api/download/models/52340 -O GirlfriendMix2.safetensors\n",
        "%cd /notebooks/stable-diffusion-webui/models/ControlNet\n",
        "!wget -nc https://huggingface.co/comfyanonymous/ControlNet-v1-1_fp16_safetensors/resolve/main/control_v11p_sd15_canny_fp16.safetensors -O control_v11p_sd15_canny_fp16.safetensors\n",
        "!wget -nc https://huggingface.co/comfyanonymous/ControlNet-v1-1_fp16_safetensors/resolve/main/control_v11p_sd15_openpose_fp16.safetensors -O control_v11p_sd15_openpose_fp16.safetensors\n"
      ]
    },
    {
      "cell_type": "code",
      "execution_count": null,
      "metadata": {
        "id": "a3c-0LBjpYXe"
      },
      "outputs": [],
      "source": [
        "#(4) AUTOMATIC1111アップデート（アップデートが必要な時のみ実行）\n",
        "%cd /notebooks/stable-diffusion-webui\n",
        "!git checkout master\n",
        "!git pull\n"
      ]
    }
  ],
  "metadata": {
    "colab": {
      "private_outputs": true,
      "provenance": []
    },
    "gpuClass": "standard",
    "kernelspec": {
      "display_name": "Python 3 (ipykernel)",
      "language": "python",
      "name": "python3"
    },
    "language_info": {
      "codemirror_mode": {
        "name": "ipython",
        "version": 3
      },
      "file_extension": ".py",
      "mimetype": "text/x-python",
      "name": "python",
      "nbconvert_exporter": "python",
      "pygments_lexer": "ipython3",
      "version": "3.9.16"
    }
  },
  "nbformat": 4,
  "nbformat_minor": 0
}
